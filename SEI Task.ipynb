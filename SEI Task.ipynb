{
 "cells": [
  {
   "cell_type": "markdown",
   "id": "4279998b",
   "metadata": {},
   "source": [
    "# SEI Task"
   ]
  },
  {
   "cell_type": "markdown",
   "id": "9d933ca4",
   "metadata": {},
   "source": [
    "GOAL: The script should create csv files containing the flows belonging to the different branches with additional columns (computed by the decision tree) branch and logistics_hub, either as a single file with all flows labeled with their branch and logistics hub, or as separate files for each branch."
   ]
  },
  {
   "cell_type": "markdown",
   "id": "323c79d8",
   "metadata": {},
   "source": [
    " - Branch 1: if the tax id of the shipment (the \"exporter CNPJ\") corresponds to a farm (i.e. a CNPJ of level 1), assign the shipment to branch 1 and accept the tax municipality as the \"logistics hub\"\n",
    " - Branch 2: if the tax id of the shipment corresponds to a silo (i.e. a CNPJ of level 2), assign the shipment to branch 2 and accept the tax municipality as the \"logistics hub\"\n",
    " - Branch 3: if the tax id of the shipment does not correspond to a farm or silo, but the exporting company owns a farm in the tax municipality (i.e. there is a CNPJ of level 1 that has the same first 8 digits as the exporter CNPJ in the tax municipality of the exporter CNPJ), assign the shipment to branch 3 and accept the tax municipality as the \"logistics hub\"\n",
    " - Branch 4: if the tax id of the shipment does not correspond to a farm or silo, but the exporting company owns a silo in the tax municipality(i.e. there is a CNPJ of level 2 that has the same first 8 digits as the exporter CNPJ in the tax municipality of the exporter CNPJ), assign the shipment to branch 4 and accept the tax municipality as the \"logistics hub\""
   ]
  },
  {
   "cell_type": "code",
   "execution_count": 1,
   "id": "866710ba",
   "metadata": {},
   "outputs": [],
   "source": [
    "import pandas as pd\n"
   ]
  },
  {
   "cell_type": "markdown",
   "id": "12ecbb89",
   "metadata": {},
   "source": [
    "## 1. Loading exports data - individual shipments exported from Brazil"
   ]
  },
  {
   "cell_type": "code",
   "execution_count": 2,
   "id": "bf59d771",
   "metadata": {},
   "outputs": [],
   "source": [
    "data = pd.read_csv('data.csv', sep=';')"
   ]
  },
  {
   "cell_type": "code",
   "execution_count": 3,
   "id": "8cd40dee",
   "metadata": {},
   "outputs": [
    {
     "data": {
      "text/html": [
       "<div>\n",
       "<style scoped>\n",
       "    .dataframe tbody tr th:only-of-type {\n",
       "        vertical-align: middle;\n",
       "    }\n",
       "\n",
       "    .dataframe tbody tr th {\n",
       "        vertical-align: top;\n",
       "    }\n",
       "\n",
       "    .dataframe thead th {\n",
       "        text-align: right;\n",
       "    }\n",
       "</style>\n",
       "<table border=\"1\" class=\"dataframe\">\n",
       "  <thead>\n",
       "    <tr style=\"text-align: right;\">\n",
       "      <th></th>\n",
       "      <th>product_type</th>\n",
       "      <th>exporter_cnpj</th>\n",
       "      <th>vol</th>\n",
       "      <th>port_of_export</th>\n",
       "      <th>country_of_destination</th>\n",
       "    </tr>\n",
       "  </thead>\n",
       "  <tbody>\n",
       "    <tr>\n",
       "      <th>0</th>\n",
       "      <td>SOYBEAN CAKE</td>\n",
       "      <td>12377000160</td>\n",
       "      <td>1.912534e+07</td>\n",
       "      <td>SANTOS</td>\n",
       "      <td>INDONESIA</td>\n",
       "    </tr>\n",
       "    <tr>\n",
       "      <th>1</th>\n",
       "      <td>SOYBEANS</td>\n",
       "      <td>80671000100</td>\n",
       "      <td>1.881031e+07</td>\n",
       "      <td>PARANAGUA</td>\n",
       "      <td>BANGLADESH</td>\n",
       "    </tr>\n",
       "    <tr>\n",
       "      <th>2</th>\n",
       "      <td>SOYBEANS</td>\n",
       "      <td>80671000100</td>\n",
       "      <td>2.080025e+07</td>\n",
       "      <td>PARANAGUA</td>\n",
       "      <td>CHINA (MAINLAND)</td>\n",
       "    </tr>\n",
       "    <tr>\n",
       "      <th>3</th>\n",
       "      <td>SOYBEAN OIL</td>\n",
       "      <td>80671000100</td>\n",
       "      <td>1.978489e+04</td>\n",
       "      <td>PARANAGUA</td>\n",
       "      <td>INDIA</td>\n",
       "    </tr>\n",
       "    <tr>\n",
       "      <th>4</th>\n",
       "      <td>SOYBEAN CAKE</td>\n",
       "      <td>80671000100</td>\n",
       "      <td>3.605974e+07</td>\n",
       "      <td>SANTOS</td>\n",
       "      <td>INDONESIA</td>\n",
       "    </tr>\n",
       "  </tbody>\n",
       "</table>\n",
       "</div>"
      ],
      "text/plain": [
       "   product_type  exporter_cnpj           vol port_of_export  \\\n",
       "0  SOYBEAN CAKE    12377000160  1.912534e+07         SANTOS   \n",
       "1      SOYBEANS    80671000100  1.881031e+07      PARANAGUA   \n",
       "2      SOYBEANS    80671000100  2.080025e+07      PARANAGUA   \n",
       "3   SOYBEAN OIL    80671000100  1.978489e+04      PARANAGUA   \n",
       "4  SOYBEAN CAKE    80671000100  3.605974e+07         SANTOS   \n",
       "\n",
       "  country_of_destination  \n",
       "0              INDONESIA  \n",
       "1             BANGLADESH  \n",
       "2       CHINA (MAINLAND)  \n",
       "3                  INDIA  \n",
       "4              INDONESIA  "
      ]
     },
     "execution_count": 3,
     "metadata": {},
     "output_type": "execute_result"
    }
   ],
   "source": [
    "data.head()"
   ]
  },
  {
   "cell_type": "markdown",
   "id": "278203b1",
   "metadata": {},
   "source": [
    "- product_type, the type of soy product exported\n",
    "- exporter_cnpj, the tax ID number of the shipment; this is a 14-digit number, the first 8 digits correspond to the company, and the remaining 6 digits identify the exact facility where the products were processed before being exported.\n",
    "- vol, the amount of product exported in kilograms\n",
    "- port_of_export, the name of the port where the products are loaded onto a ship and exported\n",
    "- country_of_destination"
   ]
  },
  {
   "cell_type": "code",
   "execution_count": 4,
   "id": "61b481bd",
   "metadata": {},
   "outputs": [
    {
     "name": "stdout",
     "output_type": "stream",
     "text": [
      "<class 'pandas.core.frame.DataFrame'>\n",
      "RangeIndex: 2039 entries, 0 to 2038\n",
      "Data columns (total 5 columns):\n",
      " #   Column                  Non-Null Count  Dtype  \n",
      "---  ------                  --------------  -----  \n",
      " 0   product_type            2039 non-null   object \n",
      " 1   exporter_cnpj           2039 non-null   int64  \n",
      " 2   vol                     2039 non-null   float64\n",
      " 3   port_of_export          2039 non-null   object \n",
      " 4   country_of_destination  2039 non-null   object \n",
      "dtypes: float64(1), int64(1), object(3)\n",
      "memory usage: 79.8+ KB\n"
     ]
    }
   ],
   "source": [
    "data.info()"
   ]
  },
  {
   "cell_type": "markdown",
   "id": "400c6532",
   "metadata": {},
   "source": [
    "## 2. Loading cnpj data - contains tax information on companies involved in the trade of soy in Brazil and their facilities"
   ]
  },
  {
   "cell_type": "code",
   "execution_count": 5,
   "id": "294e0012",
   "metadata": {},
   "outputs": [],
   "source": [
    "cnpj = pd.read_csv('cnpj.csv', sep=';')"
   ]
  },
  {
   "cell_type": "markdown",
   "id": "4d29abf5",
   "metadata": {},
   "source": [
    "-cnpj, the tax ID number of the facility owned by the company\n",
    "\n",
    "-tax_municipality, a code corresponding to the city where the facility is located\n",
    "\n",
    "-level, the type of activity the tax record corresponds to; \"1\" is for soy farming, \"2\" is for storage of soy in a silo."
   ]
  },
  {
   "cell_type": "code",
   "execution_count": 6,
   "id": "1e51d7ac",
   "metadata": {},
   "outputs": [
    {
     "data": {
      "text/html": [
       "<div>\n",
       "<style scoped>\n",
       "    .dataframe tbody tr th:only-of-type {\n",
       "        vertical-align: middle;\n",
       "    }\n",
       "\n",
       "    .dataframe tbody tr th {\n",
       "        vertical-align: top;\n",
       "    }\n",
       "\n",
       "    .dataframe thead th {\n",
       "        text-align: right;\n",
       "    }\n",
       "</style>\n",
       "<table border=\"1\" class=\"dataframe\">\n",
       "  <thead>\n",
       "    <tr style=\"text-align: right;\">\n",
       "      <th></th>\n",
       "      <th>level</th>\n",
       "      <th>cnpj8</th>\n",
       "      <th>tax_municipality</th>\n",
       "      <th>cnpj</th>\n",
       "    </tr>\n",
       "  </thead>\n",
       "  <tbody>\n",
       "    <tr>\n",
       "      <th>0</th>\n",
       "      <td>1</td>\n",
       "      <td>78956968</td>\n",
       "      <td>BR-4114807</td>\n",
       "      <td>78956968005495</td>\n",
       "    </tr>\n",
       "    <tr>\n",
       "      <th>1</th>\n",
       "      <td>1</td>\n",
       "      <td>78956968</td>\n",
       "      <td>BR-4111100</td>\n",
       "      <td>78956968000426</td>\n",
       "    </tr>\n",
       "    <tr>\n",
       "      <th>2</th>\n",
       "      <td>1</td>\n",
       "      <td>77294254</td>\n",
       "      <td>BR-1503606</td>\n",
       "      <td>77294254008098</td>\n",
       "    </tr>\n",
       "    <tr>\n",
       "      <th>3</th>\n",
       "      <td>1</td>\n",
       "      <td>77294254</td>\n",
       "      <td>BR-5107065</td>\n",
       "      <td>77294254004939</td>\n",
       "    </tr>\n",
       "    <tr>\n",
       "      <th>4</th>\n",
       "      <td>1</td>\n",
       "      <td>77294254</td>\n",
       "      <td>BR-5102686</td>\n",
       "      <td>77294254005153</td>\n",
       "    </tr>\n",
       "  </tbody>\n",
       "</table>\n",
       "</div>"
      ],
      "text/plain": [
       "   level     cnpj8 tax_municipality            cnpj\n",
       "0      1  78956968       BR-4114807  78956968005495\n",
       "1      1  78956968       BR-4111100  78956968000426\n",
       "2      1  77294254       BR-1503606  77294254008098\n",
       "3      1  77294254       BR-5107065  77294254004939\n",
       "4      1  77294254       BR-5102686  77294254005153"
      ]
     },
     "execution_count": 6,
     "metadata": {},
     "output_type": "execute_result"
    }
   ],
   "source": [
    "cnpj.head()"
   ]
  },
  {
   "cell_type": "code",
   "execution_count": 16,
   "id": "185b8ba4",
   "metadata": {},
   "outputs": [
    {
     "data": {
      "text/plain": [
       "array([1, 2, 3, 4, 5])"
      ]
     },
     "execution_count": 16,
     "metadata": {},
     "output_type": "execute_result"
    }
   ],
   "source": [
    "cnpj['level'].unique()"
   ]
  },
  {
   "cell_type": "code",
   "execution_count": 7,
   "id": "e3e1889d",
   "metadata": {},
   "outputs": [
    {
     "name": "stdout",
     "output_type": "stream",
     "text": [
      "<class 'pandas.core.frame.DataFrame'>\n",
      "RangeIndex: 557 entries, 0 to 556\n",
      "Data columns (total 4 columns):\n",
      " #   Column            Non-Null Count  Dtype \n",
      "---  ------            --------------  ----- \n",
      " 0   level             557 non-null    int64 \n",
      " 1   cnpj8             557 non-null    int64 \n",
      " 2   tax_municipality  557 non-null    object\n",
      " 3   cnpj              557 non-null    int64 \n",
      "dtypes: int64(3), object(1)\n",
      "memory usage: 17.5+ KB\n"
     ]
    }
   ],
   "source": [
    "cnpj.info()"
   ]
  },
  {
   "cell_type": "markdown",
   "id": "28d6cfca",
   "metadata": {},
   "source": [
    "## 3. Merging the data"
   ]
  },
  {
   "cell_type": "code",
   "execution_count": null,
   "id": "c5ac2d41",
   "metadata": {},
   "outputs": [],
   "source": [
    "# Create an exporter cnpj8 \n",
    "result['exporter_cnpj_8'] = exporter_cnpj"
   ]
  },
  {
   "cell_type": "code",
   "execution_count": 8,
   "id": "3882e547",
   "metadata": {},
   "outputs": [],
   "source": [
    "# Joining the tables to enrich with tax information\n",
    "result = data.merge(cnpj, left_on='exporter_cnpj', right_on= 'cnpj')"
   ]
  },
  {
   "cell_type": "code",
   "execution_count": 9,
   "id": "c742a2a4",
   "metadata": {},
   "outputs": [
    {
     "data": {
      "text/html": [
       "<div>\n",
       "<style scoped>\n",
       "    .dataframe tbody tr th:only-of-type {\n",
       "        vertical-align: middle;\n",
       "    }\n",
       "\n",
       "    .dataframe tbody tr th {\n",
       "        vertical-align: top;\n",
       "    }\n",
       "\n",
       "    .dataframe thead th {\n",
       "        text-align: right;\n",
       "    }\n",
       "</style>\n",
       "<table border=\"1\" class=\"dataframe\">\n",
       "  <thead>\n",
       "    <tr style=\"text-align: right;\">\n",
       "      <th></th>\n",
       "      <th>product_type</th>\n",
       "      <th>exporter_cnpj</th>\n",
       "      <th>vol</th>\n",
       "      <th>port_of_export</th>\n",
       "      <th>country_of_destination</th>\n",
       "      <th>level</th>\n",
       "      <th>cnpj8</th>\n",
       "      <th>tax_municipality</th>\n",
       "      <th>cnpj</th>\n",
       "    </tr>\n",
       "  </thead>\n",
       "  <tbody>\n",
       "    <tr>\n",
       "      <th>0</th>\n",
       "      <td>SOYBEAN CAKE</td>\n",
       "      <td>12377000160</td>\n",
       "      <td>1.912534e+07</td>\n",
       "      <td>SANTOS</td>\n",
       "      <td>INDONESIA</td>\n",
       "      <td>2</td>\n",
       "      <td>12377</td>\n",
       "      <td>BR-5218805</td>\n",
       "      <td>12377000160</td>\n",
       "    </tr>\n",
       "    <tr>\n",
       "      <th>1</th>\n",
       "      <td>SOYBEANS</td>\n",
       "      <td>80671000100</td>\n",
       "      <td>1.881031e+07</td>\n",
       "      <td>PARANAGUA</td>\n",
       "      <td>BANGLADESH</td>\n",
       "      <td>1</td>\n",
       "      <td>80671</td>\n",
       "      <td>BR-5211503</td>\n",
       "      <td>80671000100</td>\n",
       "    </tr>\n",
       "    <tr>\n",
       "      <th>2</th>\n",
       "      <td>SOYBEANS</td>\n",
       "      <td>80671000100</td>\n",
       "      <td>2.080025e+07</td>\n",
       "      <td>PARANAGUA</td>\n",
       "      <td>CHINA (MAINLAND)</td>\n",
       "      <td>1</td>\n",
       "      <td>80671</td>\n",
       "      <td>BR-5211503</td>\n",
       "      <td>80671000100</td>\n",
       "    </tr>\n",
       "    <tr>\n",
       "      <th>3</th>\n",
       "      <td>SOYBEAN OIL</td>\n",
       "      <td>80671000100</td>\n",
       "      <td>1.978489e+04</td>\n",
       "      <td>PARANAGUA</td>\n",
       "      <td>INDIA</td>\n",
       "      <td>1</td>\n",
       "      <td>80671</td>\n",
       "      <td>BR-5211503</td>\n",
       "      <td>80671000100</td>\n",
       "    </tr>\n",
       "    <tr>\n",
       "      <th>4</th>\n",
       "      <td>SOYBEAN CAKE</td>\n",
       "      <td>80671000100</td>\n",
       "      <td>3.605974e+07</td>\n",
       "      <td>SANTOS</td>\n",
       "      <td>INDONESIA</td>\n",
       "      <td>1</td>\n",
       "      <td>80671</td>\n",
       "      <td>BR-5211503</td>\n",
       "      <td>80671000100</td>\n",
       "    </tr>\n",
       "  </tbody>\n",
       "</table>\n",
       "</div>"
      ],
      "text/plain": [
       "   product_type  exporter_cnpj           vol port_of_export  \\\n",
       "0  SOYBEAN CAKE    12377000160  1.912534e+07         SANTOS   \n",
       "1      SOYBEANS    80671000100  1.881031e+07      PARANAGUA   \n",
       "2      SOYBEANS    80671000100  2.080025e+07      PARANAGUA   \n",
       "3   SOYBEAN OIL    80671000100  1.978489e+04      PARANAGUA   \n",
       "4  SOYBEAN CAKE    80671000100  3.605974e+07         SANTOS   \n",
       "\n",
       "  country_of_destination  level  cnpj8 tax_municipality         cnpj  \n",
       "0              INDONESIA      2  12377       BR-5218805  12377000160  \n",
       "1             BANGLADESH      1  80671       BR-5211503  80671000100  \n",
       "2       CHINA (MAINLAND)      1  80671       BR-5211503  80671000100  \n",
       "3                  INDIA      1  80671       BR-5211503  80671000100  \n",
       "4              INDONESIA      1  80671       BR-5211503  80671000100  "
      ]
     },
     "execution_count": 9,
     "metadata": {},
     "output_type": "execute_result"
    }
   ],
   "source": [
    "result.head()"
   ]
  },
  {
   "cell_type": "code",
   "execution_count": 10,
   "id": "59140e0e",
   "metadata": {},
   "outputs": [
    {
     "name": "stdout",
     "output_type": "stream",
     "text": [
      "<class 'pandas.core.frame.DataFrame'>\n",
      "Int64Index: 1777 entries, 0 to 1776\n",
      "Data columns (total 9 columns):\n",
      " #   Column                  Non-Null Count  Dtype  \n",
      "---  ------                  --------------  -----  \n",
      " 0   product_type            1777 non-null   object \n",
      " 1   exporter_cnpj           1777 non-null   int64  \n",
      " 2   vol                     1777 non-null   float64\n",
      " 3   port_of_export          1777 non-null   object \n",
      " 4   country_of_destination  1777 non-null   object \n",
      " 5   level                   1777 non-null   int64  \n",
      " 6   cnpj8                   1777 non-null   int64  \n",
      " 7   tax_municipality        1777 non-null   object \n",
      " 8   cnpj                    1777 non-null   int64  \n",
      "dtypes: float64(1), int64(4), object(4)\n",
      "memory usage: 138.8+ KB\n"
     ]
    }
   ],
   "source": [
    "result.info()"
   ]
  },
  {
   "cell_type": "code",
   "execution_count": 11,
   "id": "cd6b621a",
   "metadata": {},
   "outputs": [
    {
     "data": {
      "text/html": [
       "<div>\n",
       "<style scoped>\n",
       "    .dataframe tbody tr th:only-of-type {\n",
       "        vertical-align: middle;\n",
       "    }\n",
       "\n",
       "    .dataframe tbody tr th {\n",
       "        vertical-align: top;\n",
       "    }\n",
       "\n",
       "    .dataframe thead th {\n",
       "        text-align: right;\n",
       "    }\n",
       "</style>\n",
       "<table border=\"1\" class=\"dataframe\">\n",
       "  <thead>\n",
       "    <tr style=\"text-align: right;\">\n",
       "      <th></th>\n",
       "      <th>product_type</th>\n",
       "      <th>exporter_cnpj</th>\n",
       "      <th>vol</th>\n",
       "      <th>port_of_export</th>\n",
       "      <th>country_of_destination</th>\n",
       "      <th>level</th>\n",
       "      <th>cnpj8</th>\n",
       "      <th>tax_municipality</th>\n",
       "      <th>cnpj</th>\n",
       "    </tr>\n",
       "  </thead>\n",
       "  <tbody>\n",
       "  </tbody>\n",
       "</table>\n",
       "</div>"
      ],
      "text/plain": [
       "Empty DataFrame\n",
       "Columns: [product_type, exporter_cnpj, vol, port_of_export, country_of_destination, level, cnpj8, tax_municipality, cnpj]\n",
       "Index: []"
      ]
     },
     "execution_count": 11,
     "metadata": {},
     "output_type": "execute_result"
    }
   ],
   "source": [
    "# some data coudn't be found in cnpj table\n",
    "result[result['tax_municipality'].isnull()]"
   ]
  },
  {
   "cell_type": "markdown",
   "id": "556f5c4c",
   "metadata": {},
   "source": [
    "### 4. Building the logic"
   ]
  },
  {
   "cell_type": "code",
   "execution_count": 25,
   "id": "c0fd71b1",
   "metadata": {},
   "outputs": [],
   "source": [
    "# assign exporter_cnpj_8\n",
    "result['exporter_cnpj_8'] = result['exporter_cnpj'].astype(str).str[:7]\n",
    "result['exporter_cnpj_8'] = result['exporter_cnpj_8'].astype(int)"
   ]
  },
  {
   "cell_type": "code",
   "execution_count": 62,
   "id": "20ca9589",
   "metadata": {},
   "outputs": [],
   "source": [
    "# generate cnpjs of those who own a farm\n",
    "owns_a_farm_data = cnpj[cnpj['level'] == 1]\n",
    "owns_a_farm = data['cnpj8'].tolist()"
   ]
  },
  {
   "cell_type": "code",
   "execution_count": 80,
   "id": "9c0d9883",
   "metadata": {},
   "outputs": [],
   "source": [
    "# generate cnpjs of those who own a silo\n",
    "owns_a_silo_data = cnpj[cnpj['level'] == 2]\n",
    "owns_a_silo = data['cnpj8'].tolist()"
   ]
  },
  {
   "cell_type": "code",
   "execution_count": 87,
   "id": "d9759d72",
   "metadata": {},
   "outputs": [],
   "source": [
    "def assign_brunch(x):\n",
    "    if(x['level'] == 1):\n",
    "        return 'Branch 1'\n",
    "    elif (x['level'] == 2):\n",
    "        return 'Branch 2'\n",
    "    # company owns a farm in the tax municipality\n",
    "    elif (x['level'] > 2 and x['exporter_cnpj_8'] in owns_a_farm ):\n",
    "        return 'Branch 3'\n",
    "     # company owns a silo in the tax municipality\n",
    "    elif (x['level'] > 2 and x['exporter_cnpj_8'] in owns_a_silo ):\n",
    "        return 'Branch 4'\n",
    "    else:\n",
    "        return 'out of scope'"
   ]
  },
  {
   "cell_type": "code",
   "execution_count": 88,
   "id": "473d8903",
   "metadata": {},
   "outputs": [],
   "source": [
    "result['branch'] = result.apply(assign_brunch, axis=1)"
   ]
  },
  {
   "cell_type": "code",
   "execution_count": 90,
   "id": "a98aff33",
   "metadata": {},
   "outputs": [
    {
     "data": {
      "text/plain": [
       "array(['Branch 2', 'Branch 1', 'out of scope', 'Branch 3'], dtype=object)"
      ]
     },
     "execution_count": 90,
     "metadata": {},
     "output_type": "execute_result"
    }
   ],
   "source": [
    "result['branch'].unique()"
   ]
  },
  {
   "cell_type": "code",
   "execution_count": 92,
   "id": "a3b9a7f1",
   "metadata": {},
   "outputs": [],
   "source": [
    "# those with branches assigned have a tax municipality type as logistics hub \n",
    "# lets filter out those values and save them\n",
    "result.loc[result['branch'] != 'out of scope', 'tax_municipality_type'] = 'logistics hub'"
   ]
  },
  {
   "cell_type": "code",
   "execution_count": 93,
   "id": "171b1173",
   "metadata": {},
   "outputs": [
    {
     "data": {
      "text/html": [
       "<div>\n",
       "<style scoped>\n",
       "    .dataframe tbody tr th:only-of-type {\n",
       "        vertical-align: middle;\n",
       "    }\n",
       "\n",
       "    .dataframe tbody tr th {\n",
       "        vertical-align: top;\n",
       "    }\n",
       "\n",
       "    .dataframe thead th {\n",
       "        text-align: right;\n",
       "    }\n",
       "</style>\n",
       "<table border=\"1\" class=\"dataframe\">\n",
       "  <thead>\n",
       "    <tr style=\"text-align: right;\">\n",
       "      <th></th>\n",
       "      <th>product_type</th>\n",
       "      <th>exporter_cnpj</th>\n",
       "      <th>vol</th>\n",
       "      <th>port_of_export</th>\n",
       "      <th>country_of_destination</th>\n",
       "      <th>level</th>\n",
       "      <th>cnpj8</th>\n",
       "      <th>tax_municipality</th>\n",
       "      <th>cnpj</th>\n",
       "      <th>exporter_cnpj_8</th>\n",
       "      <th>branch</th>\n",
       "      <th>tax_municipality_type</th>\n",
       "    </tr>\n",
       "  </thead>\n",
       "  <tbody>\n",
       "    <tr>\n",
       "      <th>0</th>\n",
       "      <td>SOYBEAN CAKE</td>\n",
       "      <td>12377000160</td>\n",
       "      <td>1.912534e+07</td>\n",
       "      <td>SANTOS</td>\n",
       "      <td>INDONESIA</td>\n",
       "      <td>2</td>\n",
       "      <td>12377</td>\n",
       "      <td>BR-5218805</td>\n",
       "      <td>12377000160</td>\n",
       "      <td>1237700</td>\n",
       "      <td>Branch 2</td>\n",
       "      <td>logistics hub</td>\n",
       "    </tr>\n",
       "    <tr>\n",
       "      <th>1</th>\n",
       "      <td>SOYBEANS</td>\n",
       "      <td>80671000100</td>\n",
       "      <td>1.881031e+07</td>\n",
       "      <td>PARANAGUA</td>\n",
       "      <td>BANGLADESH</td>\n",
       "      <td>1</td>\n",
       "      <td>80671</td>\n",
       "      <td>BR-5211503</td>\n",
       "      <td>80671000100</td>\n",
       "      <td>8067100</td>\n",
       "      <td>Branch 1</td>\n",
       "      <td>logistics hub</td>\n",
       "    </tr>\n",
       "    <tr>\n",
       "      <th>2</th>\n",
       "      <td>SOYBEANS</td>\n",
       "      <td>80671000100</td>\n",
       "      <td>2.080025e+07</td>\n",
       "      <td>PARANAGUA</td>\n",
       "      <td>CHINA (MAINLAND)</td>\n",
       "      <td>1</td>\n",
       "      <td>80671</td>\n",
       "      <td>BR-5211503</td>\n",
       "      <td>80671000100</td>\n",
       "      <td>8067100</td>\n",
       "      <td>Branch 1</td>\n",
       "      <td>logistics hub</td>\n",
       "    </tr>\n",
       "    <tr>\n",
       "      <th>3</th>\n",
       "      <td>SOYBEAN OIL</td>\n",
       "      <td>80671000100</td>\n",
       "      <td>1.978489e+04</td>\n",
       "      <td>PARANAGUA</td>\n",
       "      <td>INDIA</td>\n",
       "      <td>1</td>\n",
       "      <td>80671</td>\n",
       "      <td>BR-5211503</td>\n",
       "      <td>80671000100</td>\n",
       "      <td>8067100</td>\n",
       "      <td>Branch 1</td>\n",
       "      <td>logistics hub</td>\n",
       "    </tr>\n",
       "    <tr>\n",
       "      <th>4</th>\n",
       "      <td>SOYBEAN CAKE</td>\n",
       "      <td>80671000100</td>\n",
       "      <td>3.605974e+07</td>\n",
       "      <td>SANTOS</td>\n",
       "      <td>INDONESIA</td>\n",
       "      <td>1</td>\n",
       "      <td>80671</td>\n",
       "      <td>BR-5211503</td>\n",
       "      <td>80671000100</td>\n",
       "      <td>8067100</td>\n",
       "      <td>Branch 1</td>\n",
       "      <td>logistics hub</td>\n",
       "    </tr>\n",
       "  </tbody>\n",
       "</table>\n",
       "</div>"
      ],
      "text/plain": [
       "   product_type  exporter_cnpj           vol port_of_export  \\\n",
       "0  SOYBEAN CAKE    12377000160  1.912534e+07         SANTOS   \n",
       "1      SOYBEANS    80671000100  1.881031e+07      PARANAGUA   \n",
       "2      SOYBEANS    80671000100  2.080025e+07      PARANAGUA   \n",
       "3   SOYBEAN OIL    80671000100  1.978489e+04      PARANAGUA   \n",
       "4  SOYBEAN CAKE    80671000100  3.605974e+07         SANTOS   \n",
       "\n",
       "  country_of_destination  level  cnpj8 tax_municipality         cnpj  \\\n",
       "0              INDONESIA      2  12377       BR-5218805  12377000160   \n",
       "1             BANGLADESH      1  80671       BR-5211503  80671000100   \n",
       "2       CHINA (MAINLAND)      1  80671       BR-5211503  80671000100   \n",
       "3                  INDIA      1  80671       BR-5211503  80671000100   \n",
       "4              INDONESIA      1  80671       BR-5211503  80671000100   \n",
       "\n",
       "   exporter_cnpj_8    branch tax_municipality_type  \n",
       "0          1237700  Branch 2         logistics hub  \n",
       "1          8067100  Branch 1         logistics hub  \n",
       "2          8067100  Branch 1         logistics hub  \n",
       "3          8067100  Branch 1         logistics hub  \n",
       "4          8067100  Branch 1         logistics hub  "
      ]
     },
     "execution_count": 93,
     "metadata": {},
     "output_type": "execute_result"
    }
   ],
   "source": [
    "result.head()"
   ]
  },
  {
   "cell_type": "code",
   "execution_count": 94,
   "id": "d8533aef",
   "metadata": {},
   "outputs": [],
   "source": [
    "result.to_csv('result.csv', index=False)"
   ]
  }
 ],
 "metadata": {
  "kernelspec": {
   "display_name": "Python 3 (ipykernel)",
   "language": "python",
   "name": "python3"
  },
  "language_info": {
   "codemirror_mode": {
    "name": "ipython",
    "version": 3
   },
   "file_extension": ".py",
   "mimetype": "text/x-python",
   "name": "python",
   "nbconvert_exporter": "python",
   "pygments_lexer": "ipython3",
   "version": "3.8.0"
  }
 },
 "nbformat": 4,
 "nbformat_minor": 5
}
